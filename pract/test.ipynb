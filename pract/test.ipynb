{
 "cells": [
  {
   "cell_type": "code",
   "execution_count": 1,
   "metadata": {},
   "outputs": [],
   "source": [
    "list_of_d = [ {\n",
    "    \"first_name\": \"Regular1\",\n",
    "  },  {\n",
    "    \"first_name\": \"Regular2\",\n",
    "  },  {\n",
    "    \"first_name\": \"Regular3\",\n",
    "  },  {\n",
    "    \"first_name\": \"Regular4\",\n",
    "  }]"
   ]
  },
  {
   "cell_type": "code",
   "execution_count": 10,
   "metadata": {},
   "outputs": [
    {
     "data": {
      "text/plain": [
       "<filter at 0x7a95a3c28b20>"
      ]
     },
     "execution_count": 10,
     "metadata": {},
     "output_type": "execute_result"
    }
   ],
   "source": [
    "filter_criteria = {}\n",
    "res = filter(lambda item: all(item.get(key) == value for key, value in filter_criteria.items()), list_of_d)\n",
    "res"
   ]
  },
  {
   "cell_type": "code",
   "execution_count": 11,
   "metadata": {},
   "outputs": [
    {
     "data": {
      "text/plain": [
       "[{'first_name': 'Regular1'},\n",
       " {'first_name': 'Regular2'},\n",
       " {'first_name': 'Regular3'},\n",
       " {'first_name': 'Regular4'}]"
      ]
     },
     "execution_count": 11,
     "metadata": {},
     "output_type": "execute_result"
    }
   ],
   "source": [
    "list(res)"
   ]
  },
  {
   "cell_type": "code",
   "execution_count": 25,
   "metadata": {},
   "outputs": [
    {
     "data": {
      "text/plain": [
       "[{'first_name': 'Regular3'}]"
      ]
     },
     "execution_count": 25,
     "metadata": {},
     "output_type": "execute_result"
    }
   ],
   "source": [
    "search_query = \"REGULAR3\"\n",
    "search_fields = (\"first_name\",)\n",
    "lst = [{'first_name': 'Regular1'},\n",
    " {'first_name': 'Regular2'},\n",
    " {'first_name': 'Regular3'},\n",
    " {'first_name': 'Regular4'}]\n",
    "search_res = [\n",
    "            item\n",
    "            for item in lst\n",
    "            if any(search_query.lower() == str(item[field]).lower() for field in search_fields)\n",
    "        ]\n",
    "search_res"
   ]
  },
  {
   "cell_type": "code",
   "execution_count": 1,
   "metadata": {},
   "outputs": [
    {
     "data": {
      "text/plain": [
       "True"
      ]
     },
     "execution_count": 1,
     "metadata": {},
     "output_type": "execute_result"
    }
   ],
   "source": [
    "\"test\" == \"TEST\".lower()"
   ]
  }
 ],
 "metadata": {
  "kernelspec": {
   "display_name": "dsenv",
   "language": "python",
   "name": "python3"
  },
  "language_info": {
   "codemirror_mode": {
    "name": "ipython",
    "version": 3
   },
   "file_extension": ".py",
   "mimetype": "text/x-python",
   "name": "python",
   "nbconvert_exporter": "python",
   "pygments_lexer": "ipython3",
   "version": "3.10.13"
  }
 },
 "nbformat": 4,
 "nbformat_minor": 2
}
