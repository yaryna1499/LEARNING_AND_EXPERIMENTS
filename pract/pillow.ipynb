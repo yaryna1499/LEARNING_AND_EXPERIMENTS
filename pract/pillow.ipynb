{
 "cells": [
  {
   "cell_type": "code",
   "execution_count": 1,
   "metadata": {},
   "outputs": [
    {
     "data": {
      "text/plain": [
       "bytes"
      ]
     },
     "execution_count": 1,
     "metadata": {},
     "output_type": "execute_result"
    }
   ],
   "source": [
    "from PIL import Image\n",
    "import io\n",
    "\n",
    "# Save the image to a BytesIO object\n",
    "buffer = io.BytesIO()\n",
    "# Open the JPEG image\n",
    "with open(\"image.png\", \"rb\") as f:\n",
    "    img = Image.open(f)\n",
    "    img.save(buffer, format=\"PNG\")\n",
    "\n",
    "image_bytes = buffer.getvalue()\n",
    "type(image_bytes)"
   ]
  }
 ],
 "metadata": {
  "kernelspec": {
   "display_name": "dsenv",
   "language": "python",
   "name": "python3"
  },
  "language_info": {
   "codemirror_mode": {
    "name": "ipython",
    "version": 3
   },
   "file_extension": ".py",
   "mimetype": "text/x-python",
   "name": "python",
   "nbconvert_exporter": "python",
   "pygments_lexer": "ipython3",
   "version": "3.10.13"
  }
 },
 "nbformat": 4,
 "nbformat_minor": 2
}
