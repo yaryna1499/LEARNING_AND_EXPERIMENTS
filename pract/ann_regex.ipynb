{
 "cells": [
  {
   "cell_type": "code",
   "execution_count": 1,
   "metadata": {
    "metadata": {}
   },
   "outputs": [],
   "source": [
    "from typing import Annotated, get_args, get_type_hints, get_origin\n",
    "import re\n",
    "\n",
    "pattern = r\"^[A-Z][a-z]+$\"\n",
    "\n",
    "MyType = Annotated[str, pattern]"
   ]
  },
  {
   "cell_type": "code",
   "execution_count": 2,
   "metadata": {
    "metadata": {}
   },
   "outputs": [],
   "source": [
    "from functools import wraps\n",
    "def validate_string(func):\n",
    "    @wraps(func)\n",
    "    def wrapper(x):\n",
    "        type_hints = get_type_hints(func, include_extras=True)\n",
    "        # {'val': typing.Annotated[str, '^[A-Z][a-z]+$']}\n",
    "        arg_name = func.__code__.co_varnames[:func.__code__.co_argcount][0]\n",
    "        hint = type_hints[arg_name]\n",
    "        if get_origin(hint) is Annotated:\n",
    "            hint_type, *hint_args = get_args(hint)\n",
    "            my_pattern = hint_args[0]\n",
    "            if not re.match(my_pattern, x):\n",
    "                raise ValueError(\"String is incorrect!\")\n",
    "        return func(x)\n",
    "    return wrapper"
   ]
  },
  {
   "cell_type": "code",
   "execution_count": 3,
   "metadata": {
    "metadata": {}
   },
   "outputs": [],
   "source": [
    "@validate_string\n",
    "def my_function(val: MyType):\n",
    "    return \"String is correct.\""
   ]
  },
  {
   "cell_type": "code",
   "execution_count": 5,
   "metadata": {
    "metadata": {}
   },
   "outputs": [
    {
     "ename": "ValueError",
     "evalue": "String is incorrect!",
     "output_type": "error",
     "traceback": [
      "\u001b[0;31m---------------------------------------------------------------------------\u001b[0m",
      "\u001b[0;31mValueError\u001b[0m                                Traceback (most recent call last)",
      "Cell \u001b[0;32mIn[5], line 1\u001b[0m\n\u001b[0;32m----> 1\u001b[0m \u001b[43mmy_function\u001b[49m\u001b[43m(\u001b[49m\u001b[38;5;124;43m\"\u001b[39;49m\u001b[38;5;124;43m545\u001b[39;49m\u001b[38;5;124;43m\"\u001b[39;49m\u001b[43m)\u001b[49m\n",
      "Cell \u001b[0;32mIn[2], line 13\u001b[0m, in \u001b[0;36mvalidate_string.<locals>.wrapper\u001b[0;34m(x)\u001b[0m\n\u001b[1;32m     11\u001b[0m     my_pattern \u001b[38;5;241m=\u001b[39m hint_args[\u001b[38;5;241m0\u001b[39m]\n\u001b[1;32m     12\u001b[0m     \u001b[38;5;28;01mif\u001b[39;00m \u001b[38;5;129;01mnot\u001b[39;00m re\u001b[38;5;241m.\u001b[39mmatch(my_pattern, x):\n\u001b[0;32m---> 13\u001b[0m         \u001b[38;5;28;01mraise\u001b[39;00m \u001b[38;5;167;01mValueError\u001b[39;00m(\u001b[38;5;124m\"\u001b[39m\u001b[38;5;124mString is incorrect!\u001b[39m\u001b[38;5;124m\"\u001b[39m)\n\u001b[1;32m     14\u001b[0m \u001b[38;5;28;01mreturn\u001b[39;00m func(x)\n",
      "\u001b[0;31mValueError\u001b[0m: String is incorrect!"
     ]
    }
   ],
   "source": [
    "my_function(\"545\")"
   ]
  }
 ],
 "metadata": {
  "kernelspec": {
   "display_name": "dsenv",
   "language": "python",
   "name": "python3"
  },
  "language_info": {
   "codemirror_mode": {
    "name": "ipython",
    "version": 3
   },
   "file_extension": ".py",
   "mimetype": "text/x-python",
   "name": "python",
   "nbconvert_exporter": "python",
   "pygments_lexer": "ipython3",
   "version": "3.10.13"
  }
 },
 "nbformat": 4,
 "nbformat_minor": 2
}
